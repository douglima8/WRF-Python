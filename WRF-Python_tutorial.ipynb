{
 "cells": [
  {
   "cell_type": "markdown",
   "id": "86fb4f7d-5d9a-4b6c-bbce-e747db33ca17",
   "metadata": {},
   "source": [
    "# **WRF-Python Tutorial - 2025**\n",
    "\n",
    "\n",
    "## *Douglas Lima de Bem (UFSM/URCA)*\n",
    "\n",
    "\n",
    "#### **Topics Covered Today**\n",
    "*   Overview\n",
    "*   Getting started\n",
    "*   Use the WRF-Python functions\n",
    "*   Plotting with WRF-Python using Cartopy and Matplotlib\n",
    "\n",
    "****"
   ]
  },
  {
   "cell_type": "markdown",
   "id": "919591df-1cfa-4e75-86c3-c820f26e2bbe",
   "metadata": {},
   "source": [
    "### **What is WRF-Python?**\n",
    "\n",
    "WRF-Python it is a python library that provide a collection of diagnostic and interpolation routines for use with output from the Weather Research and Forecasting (WRF-ARW) Model.\n",
    "\n",
    "*   Contains over 30 diagnostic calculations (Cloud Fraction, Updraft Helicity, CAPE, etc.)\n",
    "*   Several interpolation routines\n",
    "*   Utilities to help with plotting via cartopy, basemap, or PyNGL\n",
    "\n",
    "\n",
    "### **Informations and updates of WRF-Python**\n",
    "\n",
    "To find more information about the utilities and ease of use of WRF-Python, you can search in:\n",
    "\n",
    "\n",
    "\n",
    "*  [WRF-Python Read the Docs](https://wrf-python.readthedocs.io/en/latest/new.html)\n",
    "*  [Github Repository](https://github.com/NCAR/wrf-python)\n",
    "*  [WRF-Python Google Group](https://groups.google.com/a/ucar.edu/g/wrfpython-talk?pli=1)\n",
    "\n",
    "****"
   ]
  },
  {
   "cell_type": "markdown",
   "id": "39fa44f3-8b5f-43ee-a6d7-13e0d5b6f654",
   "metadata": {},
   "source": [
    "### **Getting Started**\n",
    "This library, despite being very useful, has not received updates since 2022. There have already been some discussions in the group about the reasons why there have been no updates. Due to this absence, it will have some dependencies that must be taken into account before its use (other libraries that must be used). For this reason, it is recommended to use an environment which contains the necessary versions of the libraries.\n",
    "\n",
    "\n",
    "\n",
    "\n",
    "*   The versions for the packages being used today will be:\n",
    "\n",
    "    - wrf-python==1.3.4.1         \n",
    "    - xarray==2024.9.0\n",
    "    - netCDF4==1.7.1.post2\n",
    "    - numpy==1.24.1\n",
    "    - matplotlib==3.8.4\n",
    "    - cartopy==0.24.1\n",
    "\n",
    "\n",
    "**Note**: if your Jupyter Notebook crashes at any point, make sure to re-run the following code cell again before any others."
   ]
  },
  {
   "cell_type": "code",
   "execution_count": null,
   "id": "70aeb42b-f7b9-461a-be55-0e37c175a337",
   "metadata": {},
   "outputs": [],
   "source": []
  }
 ],
 "metadata": {
  "kernelspec": {
   "display_name": "Python 3 (ipykernel)",
   "language": "python",
   "name": "python3"
  },
  "language_info": {
   "codemirror_mode": {
    "name": "ipython",
    "version": 3
   },
   "file_extension": ".py",
   "mimetype": "text/x-python",
   "name": "python",
   "nbconvert_exporter": "python",
   "pygments_lexer": "ipython3",
   "version": "3.10.12"
  }
 },
 "nbformat": 4,
 "nbformat_minor": 5
}
